{
 "cells": [
  {
   "cell_type": "code",
   "execution_count": 1,
   "metadata": {},
   "outputs": [],
   "source": [
    "#Q1. What are the differences between operators and values in the following?\n",
    "#Ans: Operators are used to perform mathematical operations on values.\n",
    "\n",
    "#Q2. What is the difference between string and variable?\n",
    "#Ans:  string is a data type. Variable is a temporary name given to a memory slot which holds any data.\n",
    "\n",
    "#Q3. Describe three different data forms.\n",
    "#ANs: integer(2), float(10.33), string('characters'), boolean(true/false)\n",
    "\n",
    "#Q4. What makes up an expression? What are the functions of all expressions?\n",
    "#ans: Expression is a combination of variables, operations and values that yields a result value.\n",
    "\n",
    "#Q5 In this chapter, assignment statements such as spam = 10 were added. What is the difference between a declaration and an expression?\n",
    "#Ans: In declaration, a value is being assigned to a variable.Expression is a combination of variables, operations and values that yields a result value.\n",
    "\n",
    "#Q6After running the following code, what does the variable bacon contain?\n",
    "#bacon = 22\n",
    "#bacon + 1\n",
    "#ans: bacon contains 22\n",
    "\n",
    "#Q7 What should the values of the following two terms be?\n",
    "#ans 'spam'*3 = 'spamspamspam'\n",
    "#ans 'spam' + 'spamspam' = 'spamspamspam'\n",
    "\n",
    "#Q8 Why is it that eggs is a true variable name but 100 is not?\n",
    "#ans: strings that are not empty are True. Integers are never converted to bool.\n",
    "\n",
    "#Q9 Which of the following three functions may be used to convert a value to an integer, a\n",
    "#floating-point number, or a string?\n",
    "#ans: only integers and floats can be converted to an integer by using the function int()\n",
    "\n",
    "#Q10 What is the error caused by this expression? What would you do about it?\n",
    "#39;I have eaten &#39; + 99 + &#39; burritos.&#39;\n",
    "#Ans: 'I have eaten'  + str(99) +  'burritos.' error was while adding an integer to a string. convert integer into string and then add.\n",
    "\n"
   ]
  },
  {
   "cell_type": "code",
   "execution_count": 9,
   "metadata": {},
   "outputs": [],
   "source": [
    "\n"
   ]
  },
  {
   "cell_type": "code",
   "execution_count": null,
   "metadata": {},
   "outputs": [],
   "source": []
  },
  {
   "cell_type": "code",
   "execution_count": null,
   "metadata": {},
   "outputs": [],
   "source": []
  }
 ],
 "metadata": {
  "kernelspec": {
   "display_name": "Python 3",
   "language": "python",
   "name": "python3"
  },
  "language_info": {
   "codemirror_mode": {
    "name": "ipython",
    "version": 3
   },
   "file_extension": ".py",
   "mimetype": "text/x-python",
   "name": "python",
   "nbconvert_exporter": "python",
   "pygments_lexer": "ipython3",
   "version": "3.7.3"
  }
 },
 "nbformat": 4,
 "nbformat_minor": 2
}
